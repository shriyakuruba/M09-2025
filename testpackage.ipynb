{
 "cells": [
  {
   "cell_type": "code",
   "execution_count": 1,
   "id": "0e318bf9-cf20-4879-92ca-96dae2d0b994",
   "metadata": {
    "tags": []
   },
   "outputs": [
    {
     "name": "stdout",
     "output_type": "stream",
     "text": [
      "Welcome to my module!\n",
      "Something.\n"
     ]
    }
   ],
   "source": [
    "from demo.jabber import tell_me_something as tms\n",
    "\n",
    "tms()"
   ]
  },
  {
   "cell_type": "code",
   "execution_count": null,
   "id": "557a2a9a-45ee-490b-b1a1-47175d9d7709",
   "metadata": {},
   "outputs": [],
   "source": []
  }
 ],
 "metadata": {
  "kernelspec": {
   "display_name": "Python 3 (ipykernel)",
   "language": "python",
   "name": "python3"
  },
  "language_info": {
   "codemirror_mode": {
    "name": "ipython",
    "version": 3
   },
   "file_extension": ".py",
   "mimetype": "text/x-python",
   "name": "python",
   "nbconvert_exporter": "python",
   "pygments_lexer": "ipython3",
   "version": "3.11.4"
  }
 },
 "nbformat": 4,
 "nbformat_minor": 5
}
